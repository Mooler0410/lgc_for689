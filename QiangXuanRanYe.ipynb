{
 "cells": [
  {
   "cell_type": "code",
   "execution_count": 6,
   "metadata": {},
   "outputs": [],
   "source": [
    "import pickle\n",
    "import math\n",
    "import numpy as np\n",
    "import matplotlib.pyplot as plt\n",
    "from scipy.spatial.distance import cdist\n",
    "from sklearn.datasets import make_moons\n",
    "from scipy.linalg import fractional_matrix_power\n",
    "\n",
    "def load_data(file):\n",
    "    data_list = []\n",
    "    label_list = []\n",
    "    for i in range(1,6):\n",
    "        with open(f\"{file}/data_batch_{i}\", 'rb') as f:\n",
    "            _data = pickle.load(f, encoding=\"bytes\")\n",
    "            #import pdb; pdb.set_trace()\n",
    "            data_list.append(_data[b'data'])\n",
    "            label_list.append(_data[b'labels'])\n",
    "    return (data_list, label_list)\n",
    "            \n",
    "data_cifar10 = load_data(\"./cifar10\")"
   ]
  },
  {
   "cell_type": "code",
   "execution_count": 7,
   "metadata": {},
   "outputs": [],
   "source": [
    "data, label = data_cifar10\n",
    "data = np.concatenate(data)\n",
    "label = np.concatenate(label)"
   ]
  },
  {
   "cell_type": "code",
   "execution_count": 17,
   "metadata": {},
   "outputs": [],
   "source": [
    "\n",
    "alpha = 0.99\n",
    "sigma = 0.1\n",
    "num_iter = 1000\n",
    "num_label_per_cls = 10\n",
    "\n"
   ]
  },
  {
   "cell_type": "code",
   "execution_count": 13,
   "metadata": {},
   "outputs": [],
   "source": [
    "\n",
    "\n",
    "\n",
    "\n",
    "def generate_affinity_matrix(X, Sigma=0.01,metric=\"L2\"):\n",
    "    W = np.sum((X[np.newaxis,:,:] - X[:,np.newaxis,:])**2, axis=-1)\n",
    "    #import pdb;pdb.set_trace()\n",
    "    W = np.exp(- W / (2*Sigma**2))\n",
    "    np.fill_diagonal(W, 0)\n",
    "    D_n12 = np.sum(W, axis=1)**(-1/2)\n",
    "    D_n1 = np.sum(W, axis=1)**(-1)\n",
    "    D_n12 = np.diag(D_n12)\n",
    "    D_n1 = np.diag(D_n1)\n",
    "    return W, D_n12, D_n1\n",
    "\n",
    "def walk_matrix(X, Sigma=0.01, m_type='norm'):\n",
    "    if m_type == 'norm':\n",
    "        W, D_n12, _ = generate_affinity_matrix(X, Sigma=Sigma)\n",
    "        S = D_n12 @ W @ D_n12\n",
    "        return S\n",
    "    elif m_type == 'random':\n",
    "        W, _, D_n1 = generate_affinity_matrix(X, Sigma=Sigma)\n",
    "        S = W @ D_n1\n",
    "        return  S\n",
    "    else:\n",
    "        raise NotImplemented()\n",
    "\n",
    "def label_matrix(label_vec):\n",
    "    #one-hot\n",
    "    n_values = np.max(label_vec) + 1\n",
    "    one_hot_y = np.eye(n_values)[label_vec]\n",
    "    return one_hot_y\n",
    "\n",
    "        \n",
    "def lgc(S, Y, alpha=0.99,num_I=400):\n",
    "    \n",
    "    # Iteration 0/ F_0 = Y\n",
    "    F = Y\n",
    "    for t in range(num_I):\n",
    "        F = S @ F * alpha + (1-alpha)*Y\n",
    "    \n",
    "    return F\n",
    "\n"
   ]
  },
  {
   "cell_type": "code",
   "execution_count": 24,
   "metadata": {},
   "outputs": [
    {
     "name": "stdout",
     "output_type": "stream",
     "text": [
      "> \u001b[0;32m/tmp/ipykernel_6160/3803365494.py\u001b[0m(13)\u001b[0;36mgenerate_affinity_matrix\u001b[0;34m()\u001b[0m\n",
      "\u001b[0;32m     11 \u001b[0;31m    \u001b[0mW\u001b[0m \u001b[0;34m=\u001b[0m \u001b[0mnp\u001b[0m\u001b[0;34m.\u001b[0m\u001b[0msum\u001b[0m\u001b[0;34m(\u001b[0m\u001b[0;34m(\u001b[0m\u001b[0mX\u001b[0m\u001b[0;34m[\u001b[0m\u001b[0mnp\u001b[0m\u001b[0;34m.\u001b[0m\u001b[0mnewaxis\u001b[0m\u001b[0;34m,\u001b[0m\u001b[0;34m:\u001b[0m\u001b[0;34m,\u001b[0m\u001b[0;34m:\u001b[0m\u001b[0;34m]\u001b[0m \u001b[0;34m-\u001b[0m \u001b[0mX\u001b[0m\u001b[0;34m[\u001b[0m\u001b[0;34m:\u001b[0m\u001b[0;34m,\u001b[0m\u001b[0mnp\u001b[0m\u001b[0;34m.\u001b[0m\u001b[0mnewaxis\u001b[0m\u001b[0;34m,\u001b[0m\u001b[0;34m:\u001b[0m\u001b[0;34m]\u001b[0m\u001b[0;34m)\u001b[0m\u001b[0;34m**\u001b[0m\u001b[0;36m2\u001b[0m\u001b[0;34m,\u001b[0m \u001b[0maxis\u001b[0m\u001b[0;34m=\u001b[0m\u001b[0;34m-\u001b[0m\u001b[0;36m1\u001b[0m\u001b[0;34m)\u001b[0m\u001b[0;34m\u001b[0m\u001b[0;34m\u001b[0m\u001b[0m\n",
      "\u001b[0m\u001b[0;32m     12 \u001b[0;31m    \u001b[0;32mimport\u001b[0m \u001b[0mpdb\u001b[0m\u001b[0;34m;\u001b[0m\u001b[0mpdb\u001b[0m\u001b[0;34m.\u001b[0m\u001b[0mset_trace\u001b[0m\u001b[0;34m(\u001b[0m\u001b[0;34m)\u001b[0m\u001b[0;34m\u001b[0m\u001b[0;34m\u001b[0m\u001b[0m\n",
      "\u001b[0m\u001b[0;32m---> 13 \u001b[0;31m    \u001b[0mW\u001b[0m \u001b[0;34m=\u001b[0m \u001b[0mnp\u001b[0m\u001b[0;34m.\u001b[0m\u001b[0mexp\u001b[0m\u001b[0;34m(\u001b[0m\u001b[0;34m-\u001b[0m \u001b[0mW\u001b[0m \u001b[0;34m/\u001b[0m \u001b[0;34m(\u001b[0m\u001b[0;36m2\u001b[0m\u001b[0;34m*\u001b[0m\u001b[0mSigma\u001b[0m\u001b[0;34m**\u001b[0m\u001b[0;36m2\u001b[0m\u001b[0;34m)\u001b[0m\u001b[0;34m)\u001b[0m\u001b[0;34m\u001b[0m\u001b[0;34m\u001b[0m\u001b[0m\n",
      "\u001b[0m\u001b[0;32m     14 \u001b[0;31m    \u001b[0mnp\u001b[0m\u001b[0;34m.\u001b[0m\u001b[0mfill_diagonal\u001b[0m\u001b[0;34m(\u001b[0m\u001b[0mW\u001b[0m\u001b[0;34m,\u001b[0m \u001b[0;36m0\u001b[0m\u001b[0;34m)\u001b[0m\u001b[0;34m\u001b[0m\u001b[0;34m\u001b[0m\u001b[0m\n",
      "\u001b[0m\u001b[0;32m     15 \u001b[0;31m    \u001b[0mD_n12\u001b[0m \u001b[0;34m=\u001b[0m \u001b[0mnp\u001b[0m\u001b[0;34m.\u001b[0m\u001b[0msum\u001b[0m\u001b[0;34m(\u001b[0m\u001b[0mW\u001b[0m\u001b[0;34m,\u001b[0m \u001b[0maxis\u001b[0m\u001b[0;34m=\u001b[0m\u001b[0;36m1\u001b[0m\u001b[0;34m)\u001b[0m\u001b[0;34m**\u001b[0m\u001b[0;34m(\u001b[0m\u001b[0;34m-\u001b[0m\u001b[0;36m1\u001b[0m\u001b[0;34m/\u001b[0m\u001b[0;36m2\u001b[0m\u001b[0;34m)\u001b[0m\u001b[0;34m\u001b[0m\u001b[0;34m\u001b[0m\u001b[0m\n",
      "\u001b[0m\n",
      "ipdb> c\n"
     ]
    },
    {
     "data": {
      "text/plain": [
       "0.222"
      ]
     },
     "execution_count": 24,
     "metadata": {},
     "output_type": "execute_result"
    }
   ],
   "source": [
    "labeled_num = 500\n",
    "sample_num = 1000\n",
    "Y = np.zeros([sample_num, 10])\n",
    "data_exp = (data[:sample_num] - np.mean(data[:sample_num]))/(np.var(data[:sample_num]))\n",
    "target = label[:sample_num]\n",
    "matrix = label_matrix(label[:labeled_num])\n",
    "Y[:labeled_num] = matrix\n",
    "S = walk_matrix(data_exp, Sigma=sigma, m_type='norm')\n",
    "F = lgc(S, Y, alpha, num_iter)\n",
    "\n",
    "pred_y = np.argmax(F, axis=-1)\n",
    "np.mean(pred_y[labeled_num:] == target[labeled_num:])"
   ]
  },
  {
   "cell_type": "code",
   "execution_count": 16,
   "metadata": {},
   "outputs": [
    {
     "data": {
      "text/plain": [
       "0.26"
      ]
     },
     "execution_count": 16,
     "metadata": {},
     "output_type": "execute_result"
    }
   ],
   "source": [
    "pred_y = np.argmax(F, axis=-1)\n",
    "np.mean(pred_y[200:] == target[200:])"
   ]
  },
  {
   "cell_type": "code",
   "execution_count": null,
   "metadata": {},
   "outputs": [],
   "source": []
  }
 ],
 "metadata": {
  "kernelspec": {
   "display_name": "Python [conda env:pp]",
   "language": "python",
   "name": "conda-env-pp-py"
  },
  "language_info": {
   "codemirror_mode": {
    "name": "ipython",
    "version": 3
   },
   "file_extension": ".py",
   "mimetype": "text/x-python",
   "name": "python",
   "nbconvert_exporter": "python",
   "pygments_lexer": "ipython3",
   "version": "3.7.8"
  }
 },
 "nbformat": 4,
 "nbformat_minor": 4
}
